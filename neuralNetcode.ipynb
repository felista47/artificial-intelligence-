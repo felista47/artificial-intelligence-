{
 "cells": [
  {
   "cell_type": "code",
   "execution_count": 1,
   "id": "4e586c99-2037-49b1-8af2-9aa5f2eae16f",
   "metadata": {},
   "outputs": [],
   "source": [
    "import numpy as np"
   ]
  },
  {
   "cell_type": "code",
   "execution_count": 4,
   "id": "d266f16c-1b63-4e35-9edc-9177c37d4c72",
   "metadata": {},
   "outputs": [],
   "source": [
    "# sigmoid function\n",
    "def nonlin(x,deriv=False):\n",
    "  if(deriv==True):\n",
    "    return x*(1-x)\n",
    "  return 1/(1+np.exp(-x))"
   ]
  },
  {
   "cell_type": "code",
   "execution_count": 16,
   "id": "77988117-fc12-486e-a3b4-df05c2a4bc53",
   "metadata": {},
   "outputs": [
    {
     "data": {
      "text/plain": [
       "array([[0, 0, 1],\n",
       "       [0, 1, 1],\n",
       "       [1, 0, 1],\n",
       "       [1, 1, 1]])"
      ]
     },
     "execution_count": 16,
     "metadata": {},
     "output_type": "execute_result"
    }
   ],
   "source": [
    "# input dataset\n",
    "X = np.array([ [0,0,1],\n",
    "             [0,1,1],\n",
    "             [1,0,1],\n",
    "             [1,1,1] ])\n",
    "X"
   ]
  },
  {
   "cell_type": "code",
   "execution_count": 18,
   "id": "5ede6938-fa83-451e-b2c1-76da59bd8a1e",
   "metadata": {},
   "outputs": [
    {
     "name": "stdout",
     "output_type": "stream",
     "text": [
      "Requirement already satisfied: tabulate in c:\\manoti\\lib\\site-packages (0.9.0)\n",
      "-  -  -\n",
      "0  0  1\n",
      "0  1  1\n",
      "1  0  1\n",
      "1  1  1\n",
      "-  -  -\n"
     ]
    },
    {
     "name": "stderr",
     "output_type": "stream",
     "text": [
      "\n",
      "[notice] A new release of pip is available: 24.0 -> 24.1\n",
      "[notice] To update, run: python.exe -m pip install --upgrade pip\n"
     ]
    }
   ],
   "source": [
    "!pip install tabulate\n",
    "from tabulate import tabulate\n",
    "print (tabulate(X))"
   ]
  },
  {
   "cell_type": "code",
   "execution_count": 20,
   "id": "511358a9-e729-4569-a59b-68cefcd12cac",
   "metadata": {},
   "outputs": [
    {
     "data": {
      "text/plain": [
       "array([[0],\n",
       "       [0],\n",
       "       [1],\n",
       "       [1]])"
      ]
     },
     "execution_count": 20,
     "metadata": {},
     "output_type": "execute_result"
    }
   ],
   "source": [
    "# output dataset\n",
    "y = np.array([[0,0,1,1]]).T\n",
    "y"
   ]
  },
  {
   "cell_type": "code",
   "execution_count": 22,
   "id": "014971ed-7ac4-4f13-8268-ed3993da7c4c",
   "metadata": {},
   "outputs": [
    {
     "name": "stdout",
     "output_type": "stream",
     "text": [
      "-\n",
      "0\n",
      "0\n",
      "1\n",
      "1\n",
      "-\n"
     ]
    }
   ],
   "source": [
    "print(tabulate(y))"
   ]
  },
  {
   "cell_type": "code",
   "execution_count": 19,
   "id": "95220de0-b6a3-400f-9e93-d0e582148776",
   "metadata": {},
   "outputs": [
    {
     "name": "stdout",
     "output_type": "stream",
     "text": [
      "  feature 1    feature 2    feature 3    results\n",
      "-----------  -----------  -----------  ---------\n",
      "          0            0            1          0\n",
      "          0            1            1          0\n",
      "          1            0            1          1\n",
      "          1            1            1          1\n",
      "[[0 0 1 0]\n",
      " [0 1 1 0]\n",
      " [1 0 1 1]\n",
      " [1 1 1 1]]\n"
     ]
    }
   ],
   "source": [
    "#visualize the data\n",
    "tab = np.concatenate((X, y), axis=1)\n",
    "#join the X and y for ease of understanding\n",
    "print(tabulate(tab, headers=['feature 1', 'feature 2', 'feature 3','results']))\n",
    "# to appreciate contribution of tabulate, do and compare the results\n",
    "print(tab) "
   ]
  },
  {
   "cell_type": "code",
   "execution_count": 7,
   "id": "22369520-9caf-478d-b49c-bd2c7c53f671",
   "metadata": {},
   "outputs": [],
   "source": [
    "# seed random numbers to make calculation\n",
    "# deterministic (just a good practice)\n",
    "np.random.seed(1)\n"
   ]
  },
  {
   "cell_type": "code",
   "execution_count": 28,
   "id": "2c23f803-d083-4390-ba0a-58f4f32f2c11",
   "metadata": {},
   "outputs": [
    {
     "name": "stdout",
     "output_type": "stream",
     "text": [
      "[[-0.71922612]\n",
      " [-0.60379702]\n",
      " [ 0.60148914]]\n"
     ]
    }
   ],
   "source": [
    "# initialize weights randomly with mean 0\n",
    "syn0 = 2*np.random.random((3,1)) - 1\n",
    "print(syn0)\n",
    "\n",
    "for iter in range(10000):\n",
    "# forward propagation\n",
    "    l0 = X\n",
    "    l1 = nonlin(np.dot(l0,syn0))\n",
    "# how much did we miss?\n",
    "    l1_error = y - l1"
   ]
  },
  {
   "cell_type": "code",
   "execution_count": 25,
   "id": "6a90ca51-3892-411c-9d47-0d74a4e97b85",
   "metadata": {},
   "outputs": [],
   "source": [
    "# multiply how much we missed by the\n",
    "# slope of the sigmoid at the values in l1\n",
    "l1_delta = l1_error * nonlin(l1,True)"
   ]
  },
  {
   "cell_type": "code",
   "execution_count": 14,
   "id": "3cddba64-06f5-4431-9614-c70867344d6c",
   "metadata": {},
   "outputs": [
    {
     "name": "stdout",
     "output_type": "stream",
     "text": [
      "Output After Training:\n",
      "[[0.3067574 ]\n",
      " [0.17919499]\n",
      " [0.22958471]\n",
      " [0.12818018]]\n"
     ]
    }
   ],
   "source": [
    "# update weights\n",
    "syn0 += np.dot(l0.T,l1_delta)\n",
    "print(\"Output After Training:\")\n",
    "print (l1)"
   ]
  },
  {
   "cell_type": "code",
   "execution_count": 29,
   "id": "377afc6a-8fe9-484b-bd3c-dfcc841a19bc",
   "metadata": {},
   "outputs": [
    {
     "name": "stdout",
     "output_type": "stream",
     "text": [
      "git version 2.42.0.windows.2\n"
     ]
    }
   ],
   "source": [
    "!git --version\n"
   ]
  },
  {
   "cell_type": "code",
   "execution_count": 30,
   "id": "5b270c06-3daa-45aa-a95b-0ccb2256613c",
   "metadata": {},
   "outputs": [],
   "source": [
    "!git config --global user.name \"felista47\"\n",
    "!git config --global user.email \"manotifelista9@gmail.com\"\n"
   ]
  },
  {
   "cell_type": "code",
   "execution_count": 31,
   "id": "7fb7d865-b03e-4aca-94bf-c5e6b5f82b5e",
   "metadata": {},
   "outputs": [
    {
     "name": "stderr",
     "output_type": "stream",
     "text": [
      "git: 'innit' is not a git command. See 'git --help'.\n",
      "\n",
      "The most similar command is\n",
      "\tinit\n"
     ]
    }
   ],
   "source": [
    "!git innit\n"
   ]
  },
  {
   "cell_type": "code",
   "execution_count": null,
   "id": "04d79f1a-26e4-4354-9b9f-39a0c76f9c37",
   "metadata": {},
   "outputs": [],
   "source": []
  }
 ],
 "metadata": {
  "kernelspec": {
   "display_name": "Python 3 (ipykernel)",
   "language": "python",
   "name": "python3"
  },
  "language_info": {
   "codemirror_mode": {
    "name": "ipython",
    "version": 3
   },
   "file_extension": ".py",
   "mimetype": "text/x-python",
   "name": "python",
   "nbconvert_exporter": "python",
   "pygments_lexer": "ipython3",
   "version": "3.12.3"
  }
 },
 "nbformat": 4,
 "nbformat_minor": 5
}
