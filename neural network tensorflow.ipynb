{
 "cells": [
  {
   "cell_type": "raw",
   "id": "2f0771e3-3c07-437d-9413-1a1c73ab7bfb",
   "metadata": {},
   "source": [
    "This program is used in training a simple neural network model to classify images  from the MNIST dataset.\n",
    "Setup: Installing TensorFlow and importing necessary libraries.\n",
    "\n",
    "\n",
    "Compiling the Model:\n",
    "\n",
    "The model is compiled with an optimizer (Adam), a loss function (sparse categorical crossentropy), and metrics (accuracy).\n",
    "\n",
    "Training the Model:\n",
    "\n",
    "The model is trained on the training dataset using the fit method, which involves specifying the number of epochs (iterations over the dataset).\n",
    "\n",
    "Evaluating the Model:\n",
    "\n",
    "The model's performance is evaluated on the test dataset to check its accuracy and how well it generalizes to new data.\n",
    "\n",
    "Making Predictions:\n",
    "\n",
    "The tutorial shows how to use the trained model to make predictions on new data and interpret the results."
   ]
  },
  {
   "cell_type": "code",
   "execution_count": 31,
   "id": "2ab0e416-f930-4d17-a533-4f17c0c1115d",
   "metadata": {},
   "outputs": [
    {
     "name": "stdout",
     "output_type": "stream",
     "text": [
      "TensorFlow version: 2.16.2\n"
     ]
    }
   ],
   "source": [
    "from tabulate import tabulate\n",
    "import tensorflow as tf\n",
    "print(\"TensorFlow version:\", tf.__version__)"
   ]
  },
  {
   "cell_type": "markdown",
   "id": "d492d6ea-1b4d-40c3-b40f-e801ed3ab260",
   "metadata": {},
   "source": [
    "The MNIST dataset is loaded directly from TensorFlow's datasets API. This dataset contains 70,000 grayscale images in 10 categories. The images show individual articles of clothing at low resolution (28 by 28 pixels), and the dataset is divided into 60,000 training images and 10,000 test images."
   ]
  },
  {
   "cell_type": "code",
   "execution_count": 5,
   "id": "489f0216-9440-437d-a950-9a0453131a8e",
   "metadata": {},
   "outputs": [],
   "source": [
    "# step 2 Load dataset\n",
    "mnist = tf.keras.datasets.mnist"
   ]
  },
  {
   "cell_type": "code",
   "execution_count": 6,
   "id": "25584df3-7a92-498f-8b8c-1299520e8666",
   "metadata": {},
   "outputs": [
    {
     "name": "stdout",
     "output_type": "stream",
     "text": [
      "Downloading data from https://storage.googleapis.com/tensorflow/tf-keras-datasets/mnist.npz\n",
      "\u001b[1m11490434/11490434\u001b[0m \u001b[32m━━━━━━━━━━━━━━━━━━━━\u001b[0m\u001b[37m\u001b[0m \u001b[1m4s\u001b[0m 0us/step\n"
     ]
    }
   ],
   "source": [
    "(x_train, y_train), (x_test, y_test) = mnist.load_data()\n",
    "x_train, x_test = x_train / 255.0, x_test / 255.0"
   ]
  },
  {
   "cell_type": "code",
   "execution_count": null,
   "id": "bce23be7-4565-40ff-88c7-4218df93db3d",
   "metadata": {},
   "outputs": [],
   "source": [
    "print(tabulate(x_train))"
   ]
  },
  {
   "cell_type": "markdown",
   "id": "d4ab1f57-e8ca-4e89-bf53-5b2eeb4cc5ac",
   "metadata": {},
   "source": [
    "A sequential model is created using TensorFlow's Keras API. The model has three layers:\n",
    "An input layer that flattens the 28x28 images into a single array of 784 pixels.\n",
    "A dense (fully connected) hidden layer with 128 neurons and the ReLU activation function.\n",
    "An output layer with 10 neurons (one for each class) and the softmax activation function."
   ]
  },
  {
   "cell_type": "code",
   "execution_count": 8,
   "id": "b748631b-f6be-4f77-be5b-e014a94f9d16",
   "metadata": {},
   "outputs": [],
   "source": [
    "model = tf.keras.models.Sequential([\n",
    "tf.keras.layers.Flatten(input_shape=(28, 28)),\n",
    "tf.keras.layers.Dense(128, activation='relu'),\n",
    "tf.keras.layers.Dropout(0.2),\n",
    "tf.keras.layers.Dense(10)\n",
    "])"
   ]
  },
  {
   "cell_type": "code",
   "execution_count": 9,
   "id": "5a0240b2-e514-41bc-8878-6ef5531459b8",
   "metadata": {},
   "outputs": [],
   "source": [
    " predictions = model(x_train[:1]).numpy()\n"
   ]
  },
  {
   "cell_type": "code",
   "execution_count": 10,
   "id": "7783e938-6b37-4a29-a76f-8513861798f6",
   "metadata": {},
   "outputs": [
    {
     "data": {
      "text/plain": [
       "array([[-0.01323846, -0.02819641, -0.11707611,  0.45777038, -0.9262602 ,\n",
       "        -0.1370661 ,  0.1852963 ,  0.44960538, -0.5553641 ,  0.25079912]],\n",
       "      dtype=float32)"
      ]
     },
     "execution_count": 10,
     "metadata": {},
     "output_type": "execute_result"
    }
   ],
   "source": [
    "predictions\n"
   ]
  },
  {
   "cell_type": "code",
   "execution_count": 11,
   "id": "d080db93-6bb3-4e0f-996b-386307b60e49",
   "metadata": {},
   "outputs": [
    {
     "data": {
      "text/plain": [
       "array([[0.09555787, 0.09413915, 0.08613314, 0.15304635, 0.03834831,\n",
       "        0.08442844, 0.11654376, 0.15180182, 0.05556794, 0.12443326]],\n",
       "      dtype=float32)"
      ]
     },
     "execution_count": 11,
     "metadata": {},
     "output_type": "execute_result"
    }
   ],
   "source": [
    "tf.nn.softmax(predictions).numpy()\n"
   ]
  },
  {
   "cell_type": "code",
   "execution_count": 12,
   "id": "9ae2565c-1505-4606-9986-2f1d35fbd044",
   "metadata": {},
   "outputs": [],
   "source": [
    "loss_fn = tf.keras.losses.SparseCategoricalCrossentropy(from_logits=True)"
   ]
  },
  {
   "cell_type": "code",
   "execution_count": 13,
   "id": "cdb118f9-04c1-4c09-95a4-4733b8f760be",
   "metadata": {},
   "outputs": [
    {
     "data": {
      "text/plain": [
       "2.4718509"
      ]
     },
     "execution_count": 13,
     "metadata": {},
     "output_type": "execute_result"
    }
   ],
   "source": [
    "loss_fn(y_train[:1], predictions).numpy()"
   ]
  },
  {
   "cell_type": "code",
   "execution_count": 14,
   "id": "b46b926f-3787-438a-8116-4fb928aa42c1",
   "metadata": {},
   "outputs": [],
   "source": [
    "model.compile(optimizer='adam',\n",
    "loss=loss_fn,\n",
    "metrics=['accuracy'])"
   ]
  },
  {
   "cell_type": "code",
   "execution_count": 15,
   "id": "be69810d-92ea-492c-8c3a-05ff13dfd759",
   "metadata": {},
   "outputs": [
    {
     "name": "stdout",
     "output_type": "stream",
     "text": [
      "Epoch 1/5\n",
      "\u001b[1m1875/1875\u001b[0m \u001b[32m━━━━━━━━━━━━━━━━━━━━\u001b[0m\u001b[37m\u001b[0m \u001b[1m7s\u001b[0m 3ms/step - accuracy: 0.8525 - loss: 0.4966\n",
      "Epoch 2/5\n",
      "\u001b[1m1875/1875\u001b[0m \u001b[32m━━━━━━━━━━━━━━━━━━━━\u001b[0m\u001b[37m\u001b[0m \u001b[1m4s\u001b[0m 2ms/step - accuracy: 0.9558 - loss: 0.1499\n",
      "Epoch 3/5\n",
      "\u001b[1m1875/1875\u001b[0m \u001b[32m━━━━━━━━━━━━━━━━━━━━\u001b[0m\u001b[37m\u001b[0m \u001b[1m6s\u001b[0m 3ms/step - accuracy: 0.9673 - loss: 0.1076\n",
      "Epoch 4/5\n",
      "\u001b[1m1875/1875\u001b[0m \u001b[32m━━━━━━━━━━━━━━━━━━━━\u001b[0m\u001b[37m\u001b[0m \u001b[1m4s\u001b[0m 2ms/step - accuracy: 0.9733 - loss: 0.0877\n",
      "Epoch 5/5\n",
      "\u001b[1m1875/1875\u001b[0m \u001b[32m━━━━━━━━━━━━━━━━━━━━\u001b[0m\u001b[37m\u001b[0m \u001b[1m5s\u001b[0m 2ms/step - accuracy: 0.9761 - loss: 0.0726\n"
     ]
    },
    {
     "data": {
      "text/plain": [
       "<keras.src.callbacks.history.History at 0x1bf24566600>"
      ]
     },
     "execution_count": 15,
     "metadata": {},
     "output_type": "execute_result"
    }
   ],
   "source": [
    "model.fit(x_train, y_train, epochs=5)\n"
   ]
  },
  {
   "cell_type": "code",
   "execution_count": 16,
   "id": "da82feb0-4537-4ca8-a207-fad9fbcd42b0",
   "metadata": {},
   "outputs": [
    {
     "name": "stdout",
     "output_type": "stream",
     "text": [
      "313/313 - 1s - 2ms/step - accuracy: 0.9785 - loss: 0.0712\n"
     ]
    },
    {
     "data": {
      "text/plain": [
       "[0.07122504711151123, 0.9785000085830688]"
      ]
     },
     "execution_count": 16,
     "metadata": {},
     "output_type": "execute_result"
    }
   ],
   "source": [
    "model.evaluate(x_test,  y_test, verbose=2)"
   ]
  },
  {
   "cell_type": "code",
   "execution_count": 17,
   "id": "94b1e833-2eb6-41d3-a5eb-6b52ff58fcb6",
   "metadata": {},
   "outputs": [],
   "source": [
    "probability_model = tf.keras.Sequential([\n",
    "  model,\n",
    "  tf.keras.layers.Softmax()\n",
    "])"
   ]
  },
  {
   "cell_type": "code",
   "execution_count": 18,
   "id": "f50ba830-2488-4045-905a-23834b444cb9",
   "metadata": {},
   "outputs": [
    {
     "data": {
      "text/plain": [
       "<tf.Tensor: shape=(5, 10), dtype=float32, numpy=\n",
       "array([[2.1636270e-08, 9.3451478e-09, 4.4514677e-06, 2.6563823e-04,\n",
       "        1.5068003e-12, 2.3990337e-06, 2.5491536e-14, 9.9972576e-01,\n",
       "        1.0925407e-06, 5.6131580e-07],\n",
       "       [1.5123831e-07, 3.7150498e-04, 9.9960762e-01, 1.1540869e-05,\n",
       "        4.2457688e-16, 2.6540681e-06, 5.4886296e-09, 1.3968564e-13,\n",
       "        6.5658305e-06, 3.8182651e-12],\n",
       "       [2.7223913e-07, 9.9854362e-01, 2.5155002e-04, 1.7503644e-05,\n",
       "        2.0665277e-04, 1.3106699e-05, 7.8380916e-05, 5.5250590e-04,\n",
       "        3.2590114e-04, 1.0448566e-05],\n",
       "       [9.9980718e-01, 2.9814270e-10, 1.6194367e-04, 2.1928543e-07,\n",
       "        1.5827666e-07, 5.1265674e-06, 5.9123367e-06, 2.3306743e-06,\n",
       "        1.8538506e-07, 1.6956024e-05],\n",
       "       [1.7098587e-06, 3.9863829e-10, 1.5304488e-05, 1.0907414e-07,\n",
       "        9.9349868e-01, 3.8331414e-06, 3.8074813e-06, 7.1933013e-05,\n",
       "        1.5044260e-06, 6.4031710e-03]], dtype=float32)>"
      ]
     },
     "execution_count": 18,
     "metadata": {},
     "output_type": "execute_result"
    }
   ],
   "source": [
    "probability_model(x_test[:5])"
   ]
  },
  {
   "cell_type": "code",
   "execution_count": 19,
   "id": "09627351-78c4-4563-82ba-0b26a0eb3a23",
   "metadata": {},
   "outputs": [],
   "source": [
    "!git config --global user.name \"felista47\"\n",
    "!git config --global user.email \"manotifelista9@gmail.com\"\n"
   ]
  },
  {
   "cell_type": "code",
   "execution_count": 20,
   "id": "c00148c0-4981-462a-ba23-34489599fa77",
   "metadata": {},
   "outputs": [
    {
     "name": "stdout",
     "output_type": "stream",
     "text": [
      "Reinitialized existing Git repository in C:/Users/Admin/Desktop/ML_DataSet/part 3/.git/\n"
     ]
    }
   ],
   "source": [
    "!git init\n"
   ]
  },
  {
   "cell_type": "code",
   "execution_count": 22,
   "id": "a3e34da6-b76c-4dac-a8f4-8298bb5e8d8f",
   "metadata": {},
   "outputs": [],
   "source": [
    "!git add ."
   ]
  },
  {
   "cell_type": "code",
   "execution_count": 23,
   "id": "666e8288-656f-4157-8cd8-1950877d3217",
   "metadata": {},
   "outputs": [
    {
     "name": "stdout",
     "output_type": "stream",
     "text": [
      "[main 9ebe521] learning neural network AI with tensorflow mnist dataset\n",
      " 7 files changed, 21201 insertions(+), 18 deletions(-)\n",
      " create mode 100644 .ipynb_checkpoints/Untitled-checkpoint.ipynb\n",
      " create mode 100644 .ipynb_checkpoints/Untitled1-checkpoint.ipynb\n",
      " create mode 100644 .ipynb_checkpoints/neural network tensorflow-checkpoint.ipynb\n",
      " create mode 100644 Untitled.ipynb\n",
      " create mode 100644 Untitled1.ipynb\n",
      " create mode 100644 neural network tensorflow.ipynb\n"
     ]
    }
   ],
   "source": [
    "!git commit -m \"learning neural network AI with tensorflow mnist dataset\""
   ]
  },
  {
   "cell_type": "code",
   "execution_count": 24,
   "id": "b679f7cf-5912-4990-a9ce-d8df59a09970",
   "metadata": {},
   "outputs": [],
   "source": [
    "!git branch -M main"
   ]
  },
  {
   "cell_type": "code",
   "execution_count": 27,
   "id": "698ad358-23d8-4e48-8d9c-810daad4ebd5",
   "metadata": {},
   "outputs": [
    {
     "name": "stderr",
     "output_type": "stream",
     "text": [
      "error: remote origin already exists.\n"
     ]
    }
   ],
   "source": [
    "!git remote add origin https://github.com/felista47/tensorflow-mnist-dataset.git"
   ]
  },
  {
   "cell_type": "code",
   "execution_count": 26,
   "id": "5cc0785e-7043-4668-b0c9-7247823c52fb",
   "metadata": {},
   "outputs": [
    {
     "name": "stdout",
     "output_type": "stream",
     "text": [
      "branch 'main' set up to track 'origin/main'.\n"
     ]
    },
    {
     "name": "stderr",
     "output_type": "stream",
     "text": [
      "To https://github.com/felista47/artificial-intelligence-.git\n",
      "   0f42b62..9ebe521  main -> main\n"
     ]
    }
   ],
   "source": [
    "!git push -u origin main"
   ]
  },
  {
   "cell_type": "code",
   "execution_count": 29,
   "id": "906b3b1d-cba1-4d5f-98dd-b0df42b24bd9",
   "metadata": {},
   "outputs": [
    {
     "name": "stdout",
     "output_type": "stream",
     "text": [
      "On branch main\n",
      "Your branch is up to date with 'origin/main'.\n",
      "\n",
      "Changes not staged for commit:\n",
      "  (use \"git add <file>...\" to update what will be committed)\n",
      "  (use \"git restore <file>...\" to discard changes in working directory)\n",
      "\tmodified:   neural network tensorflow.ipynb\n",
      "\tmodified:   neuralNetcode.ipynb\n",
      "\n",
      "no changes added to commit (use \"git add\" and/or \"git commit -a\")\n"
     ]
    }
   ],
   "source": [
    "!git status"
   ]
  },
  {
   "cell_type": "code",
   "execution_count": 30,
   "id": "a4dcfe65-29d7-4f91-95e9-790e731b3e00",
   "metadata": {},
   "outputs": [],
   "source": [
    "!git add ."
   ]
  },
  {
   "cell_type": "code",
   "execution_count": null,
   "id": "f809d84c-d669-445a-aaa0-b435f807b18c",
   "metadata": {},
   "outputs": [],
   "source": []
  }
 ],
 "metadata": {
  "kernelspec": {
   "display_name": "Python 3 (ipykernel)",
   "language": "python",
   "name": "python3"
  },
  "language_info": {
   "codemirror_mode": {
    "name": "ipython",
    "version": 3
   },
   "file_extension": ".py",
   "mimetype": "text/x-python",
   "name": "python",
   "nbconvert_exporter": "python",
   "pygments_lexer": "ipython3",
   "version": "3.12.3"
  }
 },
 "nbformat": 4,
 "nbformat_minor": 5
}
