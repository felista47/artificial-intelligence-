{
 "cells": [
  {
   "cell_type": "code",
   "execution_count": 1,
   "id": "4e586c99-2037-49b1-8af2-9aa5f2eae16f",
   "metadata": {},
   "outputs": [],
   "source": [
    "import numpy as np"
   ]
  },
  {
   "cell_type": "code",
   "execution_count": 4,
   "id": "d266f16c-1b63-4e35-9edc-9177c37d4c72",
   "metadata": {},
   "outputs": [],
   "source": [
    "# sigmoid function\n",
    "def nonlin(x,deriv=False):\n",
    "  if(deriv==True):\n",
    "    return x*(1-x)\n",
    "  return 1/(1+np.exp(-x))"
   ]
  },
  {
   "cell_type": "code",
   "execution_count": 5,
   "id": "77988117-fc12-486e-a3b4-df05c2a4bc53",
   "metadata": {},
   "outputs": [],
   "source": [
    "# input dataset\n",
    "X = np.array([ [0,0,1],\n",
    "             [0,1,1],\n",
    "             [1,0,1],\n",
    "             [1,1,1] ])"
   ]
  },
  {
   "cell_type": "code",
   "execution_count": 6,
   "id": "511358a9-e729-4569-a59b-68cefcd12cac",
   "metadata": {},
   "outputs": [],
   "source": [
    "# output dataset\n",
    "y = np.array([[0,0,1,1]]).T"
   ]
  },
  {
   "cell_type": "code",
   "execution_count": 7,
   "id": "22369520-9caf-478d-b49c-bd2c7c53f671",
   "metadata": {},
   "outputs": [],
   "source": [
    "# seed random numbers to make calculation\n",
    "# deterministic (just a good practice)\n",
    "np.random.seed(1)\n"
   ]
  },
  {
   "cell_type": "code",
   "execution_count": 10,
   "id": "2c23f803-d083-4390-ba0a-58f4f32f2c11",
   "metadata": {},
   "outputs": [],
   "source": [
    "# initialize weights randomly with mean 0\n",
    "syn0 = 2*np.random.random((3,1)) - 1\n",
    "\n",
    "for iter in range(10000):\n",
    "# forward propagation\n",
    "    l0 = X\n",
    "    l1 = nonlin(np.dot(l0,syn0))\n",
    "# how much did we miss?\n",
    "    l1_error = y - l1"
   ]
  },
  {
   "cell_type": "code",
   "execution_count": 11,
   "id": "6a90ca51-3892-411c-9d47-0d74a4e97b85",
   "metadata": {},
   "outputs": [],
   "source": [
    "# multiply how much we missed by the\n",
    "# slope of the sigmoid at the values in l1\n",
    "l1_delta = l1_error * nonlin(l1,True)"
   ]
  },
  {
   "cell_type": "code",
   "execution_count": 12,
   "id": "3cddba64-06f5-4431-9614-c70867344d6c",
   "metadata": {},
   "outputs": [
    {
     "ename": "SyntaxError",
     "evalue": "Missing parentheses in call to 'print'. Did you mean print(...)? (1951910900.py, line 3)",
     "output_type": "error",
     "traceback": [
      "\u001b[1;36m  Cell \u001b[1;32mIn[12], line 3\u001b[1;36m\u001b[0m\n\u001b[1;33m    print \"Output After Training:\"\u001b[0m\n\u001b[1;37m    ^\u001b[0m\n\u001b[1;31mSyntaxError\u001b[0m\u001b[1;31m:\u001b[0m Missing parentheses in call to 'print'. Did you mean print(...)?\n"
     ]
    }
   ],
   "source": [
    "# update weights\n",
    "syn0 += np.dot(l0.T,l1_delta)\n",
    "print (\"Output After Training:\")\n",
    "print l1"
   ]
  },
  {
   "cell_type": "code",
   "execution_count": null,
   "id": "377afc6a-8fe9-484b-bd3c-dfcc841a19bc",
   "metadata": {},
   "outputs": [],
   "source": []
  }
 ],
 "metadata": {
  "kernelspec": {
   "display_name": "Python 3 (ipykernel)",
   "language": "python",
   "name": "python3"
  },
  "language_info": {
   "codemirror_mode": {
    "name": "ipython",
    "version": 3
   },
   "file_extension": ".py",
   "mimetype": "text/x-python",
   "name": "python",
   "nbconvert_exporter": "python",
   "pygments_lexer": "ipython3",
   "version": "3.12.3"
  }
 },
 "nbformat": 4,
 "nbformat_minor": 5
}
